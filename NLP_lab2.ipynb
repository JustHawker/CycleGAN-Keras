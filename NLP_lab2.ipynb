{
  "nbformat": 4,
  "nbformat_minor": 0,
  "metadata": {
    "colab": {
      "name": "NLP_lab2.ipynb",
      "provenance": [],
      "authorship_tag": "ABX9TyMH5G65D+Wy+J0HmfO+xtRb",
      "include_colab_link": true
    },
    "kernelspec": {
      "name": "python3",
      "display_name": "Python 3"
    }
  },
  "cells": [
    {
      "cell_type": "markdown",
      "metadata": {
        "id": "view-in-github",
        "colab_type": "text"
      },
      "source": [
        "<a href=\"https://colab.research.google.com/github/JustHawker/CycleGAN-Keras/blob/master/NLP_lab2.ipynb\" target=\"_parent\"><img src=\"https://colab.research.google.com/assets/colab-badge.svg\" alt=\"Open In Colab\"/></a>"
      ]
    },
    {
      "cell_type": "code",
      "metadata": {
        "id": "KFRXeH0mRfef",
        "outputId": "aab9b573-9853-4421-8621-e88bb4965297",
        "colab": {
          "base_uri": "https://localhost:8080/"
        }
      },
      "source": [
        "!pip install nltk\n",
        "!pip install pandas\n",
        "!pip install sklearn"
      ],
      "execution_count": 28,
      "outputs": [
        {
          "output_type": "stream",
          "text": [
            "Requirement already satisfied: nltk in /usr/local/lib/python3.6/dist-packages (3.2.5)\n",
            "Requirement already satisfied: six in /usr/local/lib/python3.6/dist-packages (from nltk) (1.15.0)\n",
            "Requirement already satisfied: pandas in /usr/local/lib/python3.6/dist-packages (1.1.4)\n",
            "Requirement already satisfied: pytz>=2017.2 in /usr/local/lib/python3.6/dist-packages (from pandas) (2018.9)\n",
            "Requirement already satisfied: python-dateutil>=2.7.3 in /usr/local/lib/python3.6/dist-packages (from pandas) (2.8.1)\n",
            "Requirement already satisfied: numpy>=1.15.4 in /usr/local/lib/python3.6/dist-packages (from pandas) (1.18.5)\n",
            "Requirement already satisfied: six>=1.5 in /usr/local/lib/python3.6/dist-packages (from python-dateutil>=2.7.3->pandas) (1.15.0)\n",
            "Requirement already satisfied: sklearn in /usr/local/lib/python3.6/dist-packages (0.0)\n",
            "Requirement already satisfied: scikit-learn in /usr/local/lib/python3.6/dist-packages (from sklearn) (0.22.2.post1)\n",
            "Requirement already satisfied: joblib>=0.11 in /usr/local/lib/python3.6/dist-packages (from scikit-learn->sklearn) (0.17.0)\n",
            "Requirement already satisfied: scipy>=0.17.0 in /usr/local/lib/python3.6/dist-packages (from scikit-learn->sklearn) (1.4.1)\n",
            "Requirement already satisfied: numpy>=1.11.0 in /usr/local/lib/python3.6/dist-packages (from scikit-learn->sklearn) (1.18.5)\n"
          ],
          "name": "stdout"
        }
      ]
    },
    {
      "cell_type": "code",
      "metadata": {
        "id": "fBQoz7rERnZ4"
      },
      "source": [
        "import numpy as np\n",
        "import nltk\n",
        "import pandas as pd\n",
        "from sklearn.feature_extraction.text import CountVectorizer\n",
        "from sklearn.feature_extraction.text import TfidfVectorizer\n",
        "from sklearn.svm import SVC\n",
        "from sklearn.ensemble import RandomForestClassifier\n",
        "from sklearn.model_selection import GridSearchCV"
      ],
      "execution_count": 29,
      "outputs": []
    },
    {
      "cell_type": "code",
      "metadata": {
        "id": "N5DgMnxlSMZo"
      },
      "source": [
        "df = pd.read_csv('IMDB Dataset.csv')"
      ],
      "execution_count": 30,
      "outputs": []
    },
    {
      "cell_type": "code",
      "metadata": {
        "id": "Nry_dGgySPFw"
      },
      "source": [
        "X_list = df.review.to_list()[:5000]\n",
        "Y = df.sentiment[:5000]"
      ],
      "execution_count": 31,
      "outputs": []
    },
    {
      "cell_type": "code",
      "metadata": {
        "id": "CRaNDdo0Smph"
      },
      "source": [
        "tfidf_vectorizer = TfidfVectorizer(max_features = 5000)\n",
        "X_tfidf = tfidf_vectorizer.fit_transform(X_list)\n",
        "\n",
        "count_vectorizer = CountVectorizer(max_features = 5000)\n",
        "X_count = count_vectorizer.fit_transform(X_list)\n",
        "\n",
        "ngram_vectorizer = CountVectorizer(ngram_range=(1,3), max_features = 5000)\n",
        "X_ngram = ngram_vectorizer.fit_transform(X_list)"
      ],
      "execution_count": 32,
      "outputs": []
    },
    {
      "cell_type": "code",
      "metadata": {
        "id": "VgNH48yqSngu"
      },
      "source": [
        "svc = SVC()\n",
        "svc_params = {'C':np.linspace(0.1, 1.0, 5),\n",
        "             'kernel': ['linear', 'poly', 'rbf'],\n",
        "             'gamma': ['scale', 'auto']}\n",
        "\n",
        "rfc = RandomForestClassifier()\n",
        "rfc_params = {'n_estimators': list(range(5,10)), \n",
        "              'criterion':['entropy','gini'],\n",
        "              'max_depth':list(range(3,6)), \n",
        "              'max_features':list(range(2,20,2))}"
      ],
      "execution_count": 33,
      "outputs": []
    },
    {
      "cell_type": "code",
      "metadata": {
        "id": "y_hm1_OnSwEx",
        "outputId": "ad7e8812-0aba-4c14-ca0f-ebc715fa3753",
        "colab": {
          "base_uri": "https://localhost:8080/"
        }
      },
      "source": [
        "params_scores= []\n",
        "i=0\n",
        "for classifier, param, clf_name in zip([svc, rfc], [svc_params, rfc_params], ['SVC', 'Random forest']):\n",
        "    for X, name in zip([X_tfidf, X_count, X_ngram], ['tf-idf','word count','n-gram']):\n",
        "        clf = GridSearchCV(classifier, param_grid=param, cv=3)\n",
        "        clf.fit(X,Y)\n",
        "        params_scores.append((clf_name, name, clf.best_params_, clf.best_score_))\n",
        "        i+=1\n",
        "        print('model trained: {}/6'.format(i))"
      ],
      "execution_count": 34,
      "outputs": [
        {
          "output_type": "stream",
          "text": [
            "model trained: 1/6\n",
            "model trained: 2/6\n",
            "model trained: 3/6\n",
            "model trained: 4/6\n",
            "model trained: 5/6\n",
            "model trained: 6/6\n"
          ],
          "name": "stdout"
        }
      ]
    },
    {
      "cell_type": "code",
      "metadata": {
        "id": "ugWistdyTqkK",
        "outputId": "88cc0f9a-eec2-4c23-8872-c8b0cda18354",
        "colab": {
          "base_uri": "https://localhost:8080/"
        }
      },
      "source": [
        "t = sorted(params_scores, key=lambda tup: tup[3])[-1]\n",
        "print('лучший результат {} по итогам кросс-валидации показывает модель {} c векторизацией через {}.\\nОптимальные параметры {}'.format(t[3],t[0], t[1], t[2]))"
      ],
      "execution_count": 36,
      "outputs": [
        {
          "output_type": "stream",
          "text": [
            "лучший результат 0.8588025492140469 по итогам кросс-валидации показывает модель SVC c векторизацией через tf-idf.\n",
            "Оптимальные параметры {'C': 1.0, 'gamma': 'scale', 'kernel': 'rbf'}\n"
          ],
          "name": "stdout"
        }
      ]
    },
    {
      "cell_type": "code",
      "metadata": {
        "id": "LkmPU5P0X2R5",
        "outputId": "486e3763-b303-4702-c0ef-975aaa0fca33",
        "colab": {
          "base_uri": "https://localhost:8080/"
        }
      },
      "source": [
        "#все реультаты\n",
        "params_scores"
      ],
      "execution_count": 37,
      "outputs": [
        {
          "output_type": "execute_result",
          "data": {
            "text/plain": [
              "[('SVC',\n",
              "  'tf-idf',\n",
              "  {'C': 1.0, 'gamma': 'scale', 'kernel': 'rbf'},\n",
              "  0.8588025492140469),\n",
              " ('SVC',\n",
              "  'word count',\n",
              "  {'C': 0.1, 'gamma': 'scale', 'kernel': 'linear'},\n",
              "  0.8324003866693648),\n",
              " ('SVC',\n",
              "  'n-gram',\n",
              "  {'C': 0.1, 'gamma': 'scale', 'kernel': 'linear'},\n",
              "  0.8186032661414896),\n",
              " ('Random forest',\n",
              "  'tf-idf',\n",
              "  {'criterion': 'gini', 'max_depth': 5, 'max_features': 14, 'n_estimators': 8},\n",
              "  0.6622069343634274),\n",
              " ('Random forest',\n",
              "  'word count',\n",
              "  {'criterion': 'gini', 'max_depth': 5, 'max_features': 18, 'n_estimators': 8},\n",
              "  0.6723988935706257),\n",
              " ('Random forest',\n",
              "  'n-gram',\n",
              "  {'criterion': 'entropy',\n",
              "   'max_depth': 5,\n",
              "   'max_features': 18,\n",
              "   'n_estimators': 9},\n",
              "  0.6808023749391778)]"
            ]
          },
          "metadata": {
            "tags": []
          },
          "execution_count": 37
        }
      ]
    },
    {
      "cell_type": "markdown",
      "metadata": {
        "id": "iLfJ7dqXtjpl"
      },
      "source": [
        "Выполним обучение модели с наилучшим результатом на полном наборе с оптимальными параметрами"
      ]
    },
    {
      "cell_type": "code",
      "metadata": {
        "id": "sq64ypYht2Z1"
      },
      "source": [
        "best = SVC(**t[2])"
      ],
      "execution_count": 41,
      "outputs": []
    },
    {
      "cell_type": "code",
      "metadata": {
        "id": "2CtbP9sqySRl"
      },
      "source": [
        "from sklearn.model_selection import cross_val_score"
      ],
      "execution_count": 42,
      "outputs": []
    },
    {
      "cell_type": "code",
      "metadata": {
        "id": "fRLFq0gczdD-"
      },
      "source": [
        "X_list = df.review.to_list()\n",
        "Y = df.sentiment\n",
        "\n",
        "tfidf_vectorizer = TfidfVectorizer(max_features = 5000)\n",
        "X_tfidf = tfidf_vectorizer.fit_transform(X_list)"
      ],
      "execution_count": 43,
      "outputs": []
    },
    {
      "cell_type": "code",
      "metadata": {
        "id": "HS9fRY_qzpo6"
      },
      "source": [
        "clf = cross_val_score(SVC(**t[2]), X_tfidf, Y, cv=3)"
      ],
      "execution_count": 45,
      "outputs": []
    },
    {
      "cell_type": "code",
      "metadata": {
        "id": "cSpTq8MX0JDp",
        "outputId": "851342e9-e9dc-4d0e-99db-7d536d495601",
        "colab": {
          "base_uri": "https://localhost:8080/"
        }
      },
      "source": [
        "clf"
      ],
      "execution_count": 46,
      "outputs": [
        {
          "output_type": "execute_result",
          "data": {
            "text/plain": [
              "array([0.89584208, 0.89074219, 0.89355574])"
            ]
          },
          "metadata": {
            "tags": []
          },
          "execution_count": 46
        }
      ]
    },
    {
      "cell_type": "code",
      "metadata": {
        "id": "mOUtp5YfUaXF"
      },
      "source": [
        ""
      ],
      "execution_count": null,
      "outputs": []
    }
  ]
}